{
 "cells": [
  {
   "cell_type": "code",
   "execution_count": null,
   "outputs": [],
   "source": [
    "def frequency_length(df, column_name, figsize = (10, 6)):\n",
    "    tokenizer = BertTokenizer.from_pretrained('bert-base-uncased')\n",
    "    clear_output()\n",
    "    sequence_token_lengths = []\n",
    "\n",
    "    for headline in df[column_name]:\n",
    "        encoded_headline = tokenizer.encode(headline, add_special_tokens=True)\n",
    "        # record the length of the encoded review\n",
    "        sequence_token_lengths.append(len(encoded_headline))\n",
    "\n",
    "    # Get the percentage of headlines with length > 512\n",
    "    len_512_plus = [head_len for head_len in sequence_token_lengths if head_len > 512]\n",
    "    percent = (len(len_512_plus)/len(sequence_token_lengths)) * 100\n",
    "\n",
    "    print('Facts:')\n",
    "    print(\"1. Number of Sequences With Greater Than 512 Tokens: {}\".format(len(len_512_plus)))\n",
    "    print(\"2. Maximum Sequence Length: {} Tokens\".format(max(sequence_token_lengths)))\n",
    "    print(\"3. Average Sequence Length: {} Tokens\".format(np.average(sequence_token_lengths).round(1)))\n",
    "\n",
    "    # Configure the plot size\n",
    "    plt.figure(figsize = figsize)\n",
    "    sns.set(style='darkgrid')\n",
    "    # Plot the result\n",
    "    sns.displot(sequence_token_lengths, kde = False, rug = False)\n",
    "    plt.title(\"Distribution of Sequences' Lengths\")\n",
    "    plt.xlabel(\"Sequences' Length\")\n",
    "    plt.ylabel('Number of Sequences')"
   ],
   "metadata": {
    "collapsed": false
   }
  }
 ],
 "metadata": {
  "kernelspec": {
   "display_name": "Python 3",
   "language": "python",
   "name": "python3"
  },
  "language_info": {
   "codemirror_mode": {
    "name": "ipython",
    "version": 2
   },
   "file_extension": ".py",
   "mimetype": "text/x-python",
   "name": "python",
   "nbconvert_exporter": "python",
   "pygments_lexer": "ipython2",
   "version": "2.7.6"
  }
 },
 "nbformat": 4,
 "nbformat_minor": 0
}
