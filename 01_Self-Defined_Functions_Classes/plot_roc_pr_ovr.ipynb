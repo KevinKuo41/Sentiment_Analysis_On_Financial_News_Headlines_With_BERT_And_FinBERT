{
 "cells": [
  {
   "cell_type": "code",
   "execution_count": null,
   "outputs": [],
   "source": [
    "def plot_roc_pr_ovr(df, classes=['Negative', 'Neutral', 'Positive']):\n",
    "    # Plots the Probability Distributions and the ROC Curves One vs Rest\n",
    "    plt.figure(figsize = (12, 8))\n",
    "    bins = [i/20 for i in range(20)] + [1]\n",
    "    roc_auc_ovr = {}\n",
    "\n",
    "    for i in range(len(classes)):\n",
    "        # Gets the class\n",
    "        c = classes[i]\n",
    "\n",
    "        # Prepares an auxiliar dataframe to help with the plots\n",
    "        df_aux = df.copy()\n",
    "        df_aux['label'] = [1 if y == c else 0 for y in df['label']]\n",
    "        df_aux['Probability'] = df[c]\n",
    "        df_aux = df_aux.reset_index(drop = True)\n",
    "\n",
    "        # Plots the probability distribution for the class and the rest\n",
    "        ax = plt.subplot(3, 3, i+1)\n",
    "        sns.histplot(x=\"Probability\", data=df_aux, hue='label', color='b', ax=ax, bins=bins)\n",
    "        ax.set_title(c)\n",
    "        ax.legend([f\"Class: {c}\", \"Rest\"])\n",
    "        ax.set_xlabel(f\"P(x = {c})\")\n",
    "\n",
    "        # Calculates the ROC Coordinates and plots the ROC Curves\n",
    "        ax_middle = plt.subplot(3, 3, i+4)\n",
    "        fpr, tpr, __ = roc_curve(df_aux['label'], df_aux['Probability'])\n",
    "        sns.lineplot(x=fpr, y=tpr, ax=ax_middle)\n",
    "        sns.lineplot(x=[0, 1], y=[0, 1], color='green', ax=ax_middle)\n",
    "        ax_middle.lines[1].set_linestyle(\"--\")\n",
    "        plt.xlim(-0.05, 1.05)\n",
    "        plt.ylim(-0.05, 1.05)\n",
    "        plt.xlabel(\"False Positive Rate\")\n",
    "        plt.ylabel(\"True Positive Rate\")\n",
    "        ax_middle.set_title(\"ROC Curve OvR (AUC={:.4f})\".format(auc(fpr, tpr)))\n",
    "\n",
    "        # Calculates the ROC AUC OvR\n",
    "        roc_auc_ovr[c] = roc_auc_score(df_aux['label'], df_aux['Probability'])\n",
    "\n",
    "        # Calculates the Precision-Recall OvR\n",
    "        ax_bottom = plt.subplot(3, 3, i+7)\n",
    "        precision, recall, _ = precision_recall_curve(df_aux['label'], df_aux['Probability'])\n",
    "        ap = average_precision_score(df_aux['label'], df_aux['Probability'], average='macro')\n",
    "        sns.lineplot(x=recall, y=precision, color = 'b', ax = ax_bottom)\n",
    "        ax_bottom.set_title(\"Precision-Recall Curve OvR (AP={:.4f})\".format(ap))\n",
    "        ax_bottom.set_ylabel(\"Precision\")\n",
    "        ax_bottom.set_xlabel(\"Recall\")\n",
    "\n",
    "    plt.tight_layout()"
   ],
   "metadata": {
    "collapsed": false
   }
  }
 ],
 "metadata": {
  "kernelspec": {
   "display_name": "Python 3",
   "language": "python",
   "name": "python3"
  },
  "language_info": {
   "codemirror_mode": {
    "name": "ipython",
    "version": 2
   },
   "file_extension": ".py",
   "mimetype": "text/x-python",
   "name": "python",
   "nbconvert_exporter": "python",
   "pygments_lexer": "ipython2",
   "version": "2.7.6"
  }
 },
 "nbformat": 4,
 "nbformat_minor": 0
}
